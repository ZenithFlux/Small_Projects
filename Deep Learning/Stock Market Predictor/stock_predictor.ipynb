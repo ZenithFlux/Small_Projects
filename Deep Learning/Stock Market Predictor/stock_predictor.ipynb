{
 "cells": [
  {
   "cell_type": "markdown",
   "id": "754285ff-204b-4a53-b865-21f35d1e86dc",
   "metadata": {
    "tags": []
   },
   "source": [
    "# Stock Price Predictor\n",
    "\n",
    "Dataset used- [NIFTY-50 Stock Market Data (2000 - 2021)](https://www.kaggle.com/datasets/rohanrao/nifty50-stock-market-data)"
   ]
  },
  {
   "cell_type": "code",
   "execution_count": 1,
   "id": "2f5d143a-19d5-4294-aeb4-d670eeaad506",
   "metadata": {},
   "outputs": [],
   "source": [
    "# Settings\n",
    "SEQ_LEN = 365"
   ]
  },
  {
   "cell_type": "markdown",
   "id": "2a8ce422-bad1-45e8-9fa7-2866bbeb8046",
   "metadata": {
    "tags": []
   },
   "source": [
    "#### Importing modules and Data Visualization"
   ]
  },
  {
   "cell_type": "code",
   "execution_count": 2,
   "id": "688f3953-e887-4b4d-94d6-01ced6e27e82",
   "metadata": {},
   "outputs": [
    {
     "data": {
      "text/plain": [
       "device(type='cuda')"
      ]
     },
     "execution_count": 2,
     "metadata": {},
     "output_type": "execute_result"
    }
   ],
   "source": [
    "import torch\n",
    "from torch import nn\n",
    "from torch.utils.data import Dataset, DataLoader\n",
    "from glob import glob\n",
    "import pandas as pd\n",
    "import numpy as np\n",
    "from tqdm.notebook import trange\n",
    "import matplotlib.pyplot as plt\n",
    "%matplotlib inline\n",
    "\n",
    "DEVICE = torch.device(\"cuda\" if torch.cuda.is_available() else \"cpu\")\n",
    "DEVICE"
   ]
  },
  {
   "cell_type": "code",
   "execution_count": 3,
   "id": "73c75832-9b12-4566-9486-8c074441fec5",
   "metadata": {},
   "outputs": [
    {
     "name": "stdout",
     "output_type": "stream",
     "text": [
      "3285/365 = 9\n"
     ]
    },
    {
     "data": {
      "text/html": [
       "<div>\n",
       "<style scoped>\n",
       "    .dataframe tbody tr th:only-of-type {\n",
       "        vertical-align: middle;\n",
       "    }\n",
       "\n",
       "    .dataframe tbody tr th {\n",
       "        vertical-align: top;\n",
       "    }\n",
       "\n",
       "    .dataframe thead th {\n",
       "        text-align: right;\n",
       "    }\n",
       "</style>\n",
       "<table border=\"1\" class=\"dataframe\">\n",
       "  <thead>\n",
       "    <tr style=\"text-align: right;\">\n",
       "      <th></th>\n",
       "      <th>Date</th>\n",
       "      <th>Symbol</th>\n",
       "      <th>Series</th>\n",
       "      <th>Prev Close</th>\n",
       "      <th>Open</th>\n",
       "      <th>High</th>\n",
       "      <th>Low</th>\n",
       "      <th>Last</th>\n",
       "      <th>Close</th>\n",
       "      <th>VWAP</th>\n",
       "      <th>Volume</th>\n",
       "      <th>Turnover</th>\n",
       "      <th>Trades</th>\n",
       "      <th>Deliverable Volume</th>\n",
       "      <th>%Deliverble</th>\n",
       "    </tr>\n",
       "  </thead>\n",
       "  <tbody>\n",
       "    <tr>\n",
       "      <th>37</th>\n",
       "      <td>2008-01-21</td>\n",
       "      <td>MUNDRAPORT</td>\n",
       "      <td>EQ</td>\n",
       "      <td>994.60</td>\n",
       "      <td>995.0</td>\n",
       "      <td>1005.0</td>\n",
       "      <td>795.70</td>\n",
       "      <td>853.0</td>\n",
       "      <td>825.05</td>\n",
       "      <td>880.77</td>\n",
       "      <td>788623</td>\n",
       "      <td>6.945990e+13</td>\n",
       "      <td>NaN</td>\n",
       "      <td>474223</td>\n",
       "      <td>0.6013</td>\n",
       "    </tr>\n",
       "    <tr>\n",
       "      <th>38</th>\n",
       "      <td>2008-01-22</td>\n",
       "      <td>MUNDRAPORT</td>\n",
       "      <td>EQ</td>\n",
       "      <td>825.05</td>\n",
       "      <td>700.0</td>\n",
       "      <td>810.0</td>\n",
       "      <td>660.05</td>\n",
       "      <td>739.0</td>\n",
       "      <td>735.55</td>\n",
       "      <td>703.20</td>\n",
       "      <td>546161</td>\n",
       "      <td>3.840611e+13</td>\n",
       "      <td>NaN</td>\n",
       "      <td>376194</td>\n",
       "      <td>0.6888</td>\n",
       "    </tr>\n",
       "    <tr>\n",
       "      <th>39</th>\n",
       "      <td>2008-01-23</td>\n",
       "      <td>MUNDRAPORT</td>\n",
       "      <td>EQ</td>\n",
       "      <td>735.55</td>\n",
       "      <td>760.0</td>\n",
       "      <td>881.9</td>\n",
       "      <td>760.00</td>\n",
       "      <td>862.2</td>\n",
       "      <td>857.00</td>\n",
       "      <td>818.67</td>\n",
       "      <td>535462</td>\n",
       "      <td>4.383653e+13</td>\n",
       "      <td>NaN</td>\n",
       "      <td>283881</td>\n",
       "      <td>0.5302</td>\n",
       "    </tr>\n",
       "    <tr>\n",
       "      <th>40</th>\n",
       "      <td>2008-01-24</td>\n",
       "      <td>MUNDRAPORT</td>\n",
       "      <td>EQ</td>\n",
       "      <td>857.00</td>\n",
       "      <td>875.0</td>\n",
       "      <td>935.0</td>\n",
       "      <td>812.00</td>\n",
       "      <td>814.7</td>\n",
       "      <td>814.15</td>\n",
       "      <td>854.83</td>\n",
       "      <td>511017</td>\n",
       "      <td>4.368332e+13</td>\n",
       "      <td>NaN</td>\n",
       "      <td>258346</td>\n",
       "      <td>0.5056</td>\n",
       "    </tr>\n",
       "    <tr>\n",
       "      <th>41</th>\n",
       "      <td>2008-01-25</td>\n",
       "      <td>MUNDRAPORT</td>\n",
       "      <td>EQ</td>\n",
       "      <td>814.15</td>\n",
       "      <td>820.0</td>\n",
       "      <td>883.0</td>\n",
       "      <td>820.00</td>\n",
       "      <td>866.0</td>\n",
       "      <td>865.70</td>\n",
       "      <td>858.33</td>\n",
       "      <td>404045</td>\n",
       "      <td>3.468033e+13</td>\n",
       "      <td>NaN</td>\n",
       "      <td>178177</td>\n",
       "      <td>0.4410</td>\n",
       "    </tr>\n",
       "  </tbody>\n",
       "</table>\n",
       "</div>"
      ],
      "text/plain": [
       "          Date      Symbol Series  Prev Close   Open    High     Low   Last  \\\n",
       "37  2008-01-21  MUNDRAPORT     EQ      994.60  995.0  1005.0  795.70  853.0   \n",
       "38  2008-01-22  MUNDRAPORT     EQ      825.05  700.0   810.0  660.05  739.0   \n",
       "39  2008-01-23  MUNDRAPORT     EQ      735.55  760.0   881.9  760.00  862.2   \n",
       "40  2008-01-24  MUNDRAPORT     EQ      857.00  875.0   935.0  812.00  814.7   \n",
       "41  2008-01-25  MUNDRAPORT     EQ      814.15  820.0   883.0  820.00  866.0   \n",
       "\n",
       "     Close    VWAP  Volume      Turnover  Trades  Deliverable Volume  \\\n",
       "37  825.05  880.77  788623  6.945990e+13     NaN              474223   \n",
       "38  735.55  703.20  546161  3.840611e+13     NaN              376194   \n",
       "39  857.00  818.67  535462  4.383653e+13     NaN              283881   \n",
       "40  814.15  854.83  511017  4.368332e+13     NaN              258346   \n",
       "41  865.70  858.33  404045  3.468033e+13     NaN              178177   \n",
       "\n",
       "    %Deliverble  \n",
       "37       0.6013  \n",
       "38       0.6888  \n",
       "39       0.5302  \n",
       "40       0.5056  \n",
       "41       0.4410  "
      ]
     },
     "execution_count": 3,
     "metadata": {},
     "output_type": "execute_result"
    }
   ],
   "source": [
    "csv_list = glob(\"dataset\\\\stocks\\\\*.csv\")\n",
    "\n",
    "example = pd.read_csv(csv_list[0])\n",
    "r = len(example)%(SEQ_LEN)\n",
    "example = example.iloc[r:]\n",
    "print(f\"{len(example)}/{SEQ_LEN} = {len(example)//(SEQ_LEN)}\")\n",
    "example.head()"
   ]
  },
  {
   "cell_type": "code",
   "execution_count": 4,
   "id": "d302fd3a-2be7-4114-b05d-12b178cd6c52",
   "metadata": {},
   "outputs": [
    {
     "data": {
      "text/plain": [
       "Text(0.5, 0, 'Day')"
      ]
     },
     "execution_count": 4,
     "metadata": {},
     "output_type": "execute_result"
    },
    {
     "data": {
      "image/png": "[encoded data removed]",
      "text/plain": [
       "<Figure size 640x480 with 1 Axes>"
      ]
     },
     "metadata": {},
     "output_type": "display_data"
    }
   ],
   "source": [
    "e = example[-(SEQ_LEN):].reset_index()\n",
    "e[:SEQ_LEN]['Close'].plot()\n",
    "plt.ylabel('Stock Price')\n",
    "plt.xlabel('Day')"
   ]
  },
  {
   "cell_type": "markdown",
   "id": "5d5187dc-6fed-4084-8d10-b6db57bd5fb6",
   "metadata": {
    "tags": []
   },
   "source": [
    "## Data fetching and preprocessing"
   ]
  },
  {
   "cell_type": "code",
   "execution_count": 5,
   "id": "106a9135-ba81-4fb8-a956-add70b9ff0bc",
   "metadata": {},
   "outputs": [
    {
     "name": "stdout",
     "output_type": "stream",
     "text": [
      "Dataset shape- (1263, 365, 1)\n"
     ]
    },
    {
     "data": {
      "text/plain": [
       "array([1159.], dtype=float32)"
      ]
     },
     "execution_count": 5,
     "metadata": {},
     "output_type": "execute_result"
    }
   ],
   "source": [
    "def csv2array(csv_list: list[str], columns_to_keep: list[str], seq_len: int):\n",
    "    \n",
    "    def process_df(df):\n",
    "        df = df[columns_to_keep]\n",
    "        r = len(df) % seq_len\n",
    "        n = len(df) // seq_len\n",
    "        df = df.iloc[r:]\n",
    "        arr_list = np.empty((0,seq_len,1), dtype=np.float32)\n",
    "        for i in range(n):\n",
    "            new_df = df.iloc[i*seq_len:(i+1)*seq_len]\n",
    "            arr = new_df.to_numpy(dtype=np.float32)\n",
    "            arr_list = np.append(arr_list, np.expand_dims(arr, 0), axis=0)\n",
    "        \n",
    "        return arr_list\n",
    "    \n",
    "    \n",
    "    dataset = np.empty((0,seq_len,1), dtype=np.float32)\n",
    "    for csv in csv_list:\n",
    "            df = pd.read_csv(csv)\n",
    "            arr_list = process_df(df)\n",
    "            dataset = np.append(dataset, arr_list, axis=0)\n",
    "            \n",
    "    np.random.default_rng(1).shuffle(dataset)\n",
    "    return dataset\n",
    "\n",
    "dataset_orig = csv2array(csv_list, ['Close'], SEQ_LEN)\n",
    "print(f'Dataset shape- {dataset_orig.shape}')\n",
    "dataset_orig[0][0]"
   ]
  },
  {
   "cell_type": "code",
   "execution_count": 6,
   "id": "677e328b-fa79-4665-b8ce-960e25e62ca4",
   "metadata": {},
   "outputs": [
    {
     "data": {
      "text/plain": [
       "array([[1.       ],\n",
       "       [1.0069025],\n",
       "       [0.9981449]], dtype=float32)"
      ]
     },
     "execution_count": 6,
     "metadata": {},
     "output_type": "execute_result"
    }
   ],
   "source": [
    "def scale_dataset(dataset):\n",
    "    first = dataset[:,0:1,:]\n",
    "    dataset = dataset/first\n",
    "    return dataset\n",
    "\n",
    "dataset = scale_dataset(dataset_orig)\n",
    "dataset[0][0:3]"
   ]
  },
  {
   "cell_type": "code",
   "execution_count": 7,
   "id": "7cc99532-5a1b-402c-95dc-ea9d31df2d70",
   "metadata": {},
   "outputs": [
    {
     "name": "stdout",
     "output_type": "stream",
     "text": [
      "Training Samples = 1136\n",
      "Testing Samples = 127\n",
      "Input sample shape = torch.Size([364, 1])\n",
      "Output shape = torch.Size([364, 1])\n",
      "\n",
      "Samples:\n",
      "X- 1.0\n",
      "Y- 1.0069024562835693\n"
     ]
    }
   ],
   "source": [
    "class StockDataset(Dataset):\n",
    "    def __init__(self, data_array):\n",
    "        self.dataset = data_array\n",
    "    \n",
    "    def __len__(self):\n",
    "        return self.dataset.shape[0]\n",
    "    \n",
    "    def __getitem__(self, i):\n",
    "        arr = self.dataset[i]\n",
    "        X = torch.from_numpy(arr[:-1])\n",
    "        Y = torch.from_numpy(arr[1:])\n",
    "        \n",
    "        return {'X': X, 'Y': Y}\n",
    "    \n",
    "train_size = int(dataset.shape[0] * 0.90)\n",
    "\n",
    "trainset = StockDataset(dataset[:train_size])\n",
    "testset = StockDataset(dataset[train_size:])\n",
    "\n",
    "print(f\"Training Samples = {len(trainset)}\\nTesting Samples = {len(testset)}\")\n",
    "print(f\"Input sample shape = {trainset[0]['X'].shape}\")\n",
    "print(f\"Output shape = {trainset[0]['Y'].shape}\")\n",
    "\n",
    "print(f\"\\nSamples:\\nX- {trainset[0]['X'][0][0]}\\nY- {trainset[0]['Y'][0][0]}\")"
   ]
  },
  {
   "cell_type": "markdown",
   "id": "7c929052-62c2-4e0a-bb09-b05a1babb03c",
   "metadata": {
    "tags": []
   },
   "source": [
    "### Creating DataLoaders"
   ]
  },
  {
   "cell_type": "code",
   "execution_count": 8,
   "id": "7346d364-4618-4d89-b598-40f1b50f8c84",
   "metadata": {},
   "outputs": [
    {
     "name": "stdout",
     "output_type": "stream",
     "text": [
      "X- torch.Size([32, 364, 1])\n",
      "Y- torch.Size([32, 364, 1])\n"
     ]
    }
   ],
   "source": [
    "train_dl = DataLoader(trainset, batch_size=32, shuffle=True, pin_memory=True)\n",
    "test_dl = DataLoader(testset, batch_size=32, shuffle=True, pin_memory=True)\n",
    "\n",
    "data = next(iter(train_dl))\n",
    "print(f\"X- {data['X'].shape}\\nY- {data['Y'].shape}\")"
   ]
  },
  {
   "cell_type": "markdown",
   "id": "b118b57e-2343-400d-9253-4c3992a195a7",
   "metadata": {
    "tags": []
   },
   "source": [
    "## Model Building"
   ]
  },
  {
   "cell_type": "markdown",
   "id": "1728a36c-6f60-4d9d-a1d7-cadc6f912a89",
   "metadata": {},
   "source": [
    "#### Model"
   ]
  },
  {
   "cell_type": "code",
   "execution_count": 9,
   "id": "f891beab-eb09-40e6-a714-44887ea28a0f",
   "metadata": {},
   "outputs": [
    {
     "name": "stdout",
     "output_type": "stream",
     "text": [
      "Model Parameters- 71851\n"
     ]
    },
    {
     "data": {
      "text/plain": [
       "StockPredictor(\n",
       "  (lstm): LSTM(1, 50, num_layers=4, batch_first=True, dropout=0.2)\n",
       "  (top_layers): Sequential(\n",
       "    (0): Dropout(p=0.2, inplace=False)\n",
       "    (1): Linear(in_features=50, out_features=1, bias=True)\n",
       "  )\n",
       "  (loss_func): MSELoss()\n",
       ")"
      ]
     },
     "execution_count": 9,
     "metadata": {},
     "output_type": "execute_result"
    }
   ],
   "source": [
    "class StockPredictor(nn.Module):\n",
    "    \"\"\"\n",
    "    Accepts input tensor of size (N, SEQ_LEN, 1).\n",
    "    Returns output tensor of size (N, SEQ_LEN, 1).\n",
    "    \n",
    "    N - Batch Size\n",
    "    SEQ_LEN - length of the sequence\n",
    "    \"\"\"\n",
    "    def __init__(self, hidden_size: int, LSTM_layers: int, dropout: float= 0.,\n",
    "                 learning_rate: float= 0.001):\n",
    "        super().__init__()\n",
    "        \n",
    "        self.lstm = nn.LSTM(input_size=1, hidden_size=hidden_size, proj_size=0, num_layers=LSTM_layers, dropout=dropout, batch_first=True).to(DEVICE)\n",
    "        \n",
    "        layers = []\n",
    "        if dropout > 0:\n",
    "            layers += [nn.Dropout(dropout)]\n",
    "        layers += [nn.Linear(hidden_size, 1)]\n",
    "        self.top_layers = nn.Sequential(*layers).to(DEVICE)\n",
    "        \n",
    "        self.loss_func = nn.MSELoss()\n",
    "        self.optimizer = torch.optim.Adam(self.parameters(), lr=learning_rate)\n",
    "        \n",
    "        self.eval()\n",
    "    \n",
    "    @staticmethod\n",
    "    def normalize_data(data):\n",
    "        first = data[...,0:1,:]\n",
    "        data = data/first\n",
    "        return data\n",
    "    \n",
    "    def forward(self, X, normalized=True, future = 1):\n",
    "        X = X.to(DEVICE)\n",
    "        if not normalized:\n",
    "            X = self.normalize_data(X)\n",
    "\n",
    "        lstm_out, states = self.lstm(X)\n",
    "        output = self.top_layers(lstm_out)\n",
    "        \n",
    "        outputs = [output]\n",
    "        output = output[..., -1:, :]\n",
    "        for _ in range(future-1):\n",
    "            lstm_out, states = self.lstm(output, states)\n",
    "            output = self.top_layers(lstm_out)\n",
    "            outputs.append(output)\n",
    "        \n",
    "        outputs = torch.cat(outputs, dim=-2)            \n",
    "        return outputs\n",
    "    \n",
    "    def calculate_loss(self, X, Y, normalized=True):\n",
    "        X, Y = X.to(DEVICE), Y.to(DEVICE)\n",
    "        \n",
    "        preds = self(X, normalized=normalized)\n",
    "        loss = self.loss_func(preds, Y)\n",
    "        return loss\n",
    "    \n",
    "    def optimize(self, X, Y):\n",
    "        loss = self.calculate_loss(X, Y)\n",
    "        self.optimizer.zero_grad()\n",
    "        loss.backward()\n",
    "        self.optimizer.step()\n",
    "        \n",
    "        return loss\n",
    "    \n",
    "model = StockPredictor(hidden_size=50, LSTM_layers=4, dropout= 0.2, learning_rate= 0.001)\n",
    "print(f'Model Parameters- {sum(p.numel() for p in model.parameters())}')\n",
    "model"
   ]
  },
  {
   "cell_type": "markdown",
   "id": "b984a42f-fc08-4af8-8d66-6d9f6c9310c3",
   "metadata": {},
   "source": [
    "### Model Training"
   ]
  },
  {
   "cell_type": "markdown",
   "id": "a1056693-bec1-4ce1-87e3-beed519bf936",
   "metadata": {
    "tags": []
   },
   "source": [
    "#### Utility"
   ]
  },
  {
   "cell_type": "code",
   "execution_count": 10,
   "id": "aebd26f1-1046-4157-94e0-bfacc2dd0b59",
   "metadata": {},
   "outputs": [],
   "source": [
    "class AverageCalculator:\n",
    "    def __init__(self):\n",
    "        self.reset()\n",
    "        \n",
    "    def update(self, num, count=1):\n",
    "        self.count += count\n",
    "        self.sum += num * count\n",
    "        \n",
    "    def average(self):\n",
    "        return self.sum/self.count\n",
    "        \n",
    "    def reset(self):\n",
    "        self.sum = self.count = 0.0"
   ]
  },
  {
   "cell_type": "markdown",
   "id": "a778509e-b206-4f89-bb48-d2bfcb9f5a1a",
   "metadata": {},
   "source": [
    "#### Training function"
   ]
  },
  {
   "cell_type": "code",
   "execution_count": 11,
   "id": "ee0bbc1b-61be-426f-8758-a8f4b4dac58e",
   "metadata": {
    "scrolled": true,
    "tags": []
   },
   "outputs": [
    {
     "name": "stdout",
     "output_type": "stream",
     "text": [
      "\n",
      "\u001b[32mEpochs:\u001b[0m\n"
     ]
    },
    {
     "data": {
      "application/vnd.jupyter.widget-view+json": {
       "model_id": "2520ce82038149ea8dd2bb57b2c8ad8c",
       "version_major": 2,
       "version_minor": 0
      },
      "text/plain": [
       "  0%|          | 0/10 [00:00<?, ?it/s]"
      ]
     },
     "metadata": {},
     "output_type": "display_data"
    },
    {
     "name": "stdout",
     "output_type": "stream",
     "text": [
      "Final Training Loss- 0.06641236530013488\n",
      "Final Testing Loss-  0.07281063105837685\n"
     ]
    }
   ],
   "source": [
    "def train_model(model, train_dl: DataLoader, test_dl: DataLoader, epochs: int):\n",
    "    train_losses = []\n",
    "    test_losses = []\n",
    "    \n",
    "    print(\"\\n\\033[32mEpochs:\\033[0m\")\n",
    "    for e in trange(epochs):\n",
    "        calc = AverageCalculator()\n",
    "        model.train()\n",
    "        \n",
    "        for data in train_dl:\n",
    "            loss = model.optimize(data['X'], data['Y'])\n",
    "            calc.update(float(loss.cpu().detach()), data['X'].shape[0])\n",
    "        train_losses.append(calc.average())\n",
    "        \n",
    "        model.eval()\n",
    "        calc.reset()\n",
    "        \n",
    "        with torch.no_grad():\n",
    "            for data in test_dl:\n",
    "                loss = model.calculate_loss(data['X'], data['Y'])\n",
    "                calc.update(float(loss.cpu().detach()), data['X'].shape[0])\n",
    "            test_losses.append(calc.average())\n",
    "        \n",
    "    print(f'Final Training Loss- {train_losses[-1]}')\n",
    "    print(f'Final Testing Loss-  {test_losses[-1]}')\n",
    "\n",
    "    return train_losses, test_losses\n",
    "\n",
    "trainl, testl = train_model(model, train_dl, test_dl, 10)"
   ]
  },
  {
   "cell_type": "code",
   "execution_count": 12,
   "id": "655af337-0850-4b8a-a4f3-78481ac17feb",
   "metadata": {},
   "outputs": [
    {
     "data": {
      "text/plain": [
       "<matplotlib.legend.Legend at 0x2b869ac2770>"
      ]
     },
     "execution_count": 12,
     "metadata": {},
     "output_type": "execute_result"
    },
    {
     "data": {
      "image/png": "[encoded data removed]",
      "text/plain": [
       "<Figure size 640x480 with 1 Axes>"
      ]
     },
     "metadata": {},
     "output_type": "display_data"
    }
   ],
   "source": [
    "plt.plot(trainl, 'r', label= \"Training loss\")\n",
    "plt.plot(testl, 'g', label= \"Test Loss\")\n",
    "plt.xlabel(\"Epoch\")\n",
    "plt.ylabel(\"Loss\")\n",
    "plt.legend(loc= 'best')"
   ]
  },
  {
   "cell_type": "markdown",
   "id": "d17642aa-5391-46a5-b66e-337b6964e253",
   "metadata": {},
   "source": [
    "## Making Predictions with the trained model"
   ]
  },
  {
   "cell_type": "code",
   "execution_count": 13,
   "id": "8727d5be-9484-4564-9550-aa749374ac0c",
   "metadata": {},
   "outputs": [
    {
     "data": {
      "text/plain": [
       "<matplotlib.legend.Legend at 0x2b869953d60>"
      ]
     },
     "execution_count": 13,
     "metadata": {},
     "output_type": "execute_result"
    },
    {
     "data": {
      "image/png": "[encoded data removed]",
      "text/plain": [
       "<Figure size 640x480 with 1 Axes>"
      ]
     },
     "metadata": {},
     "output_type": "display_data"
    }
   ],
   "source": [
    "i = 3\n",
    "\n",
    "data = testset[i]\n",
    "with torch.no_grad():\n",
    "    preds = model(data['X']).squeeze().cpu()\n",
    "\n",
    "y = data['Y'].squeeze()\n",
    "\n",
    "plt.plot(y[10:], 'r', label= \"actual\")\n",
    "plt.plot(preds[10:], 'g', label= \"predictions\")\n",
    "plt.xlabel(\"Days\")\n",
    "plt.title(\"Stock Prices for 1 year\")\n",
    "plt.legend(loc='best')"
   ]
  },
  {
   "cell_type": "code",
   "execution_count": null,
   "id": "d5274f54-eec7-4498-abcf-fd3dd470fd27",
   "metadata": {},
   "outputs": [],
   "source": []
  }
 ],
 "metadata": {
  "kernelspec": {
   "display_name": "Python 3 (ipykernel)",
   "language": "python",
   "name": "python3"
  },
  "language_info": {
   "codemirror_mode": {
    "name": "ipython",
    "version": 3
   },
   "file_extension": ".py",
   "mimetype": "text/x-python",
   "name": "python",
   "nbconvert_exporter": "python",
   "pygments_lexer": "ipython3",
   "version": "3.10.6"
  },
  "vscode": {
   "interpreter": {
    "hash": "eb3bfb8829c0f6c861f65ef97547ce0d0929b871429243abfe482c5c97ab1cb4"
   }
  }
 },
 "nbformat": 4,
 "nbformat_minor": 5
}
