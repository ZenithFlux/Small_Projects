{
 "cells": [
  {
   "cell_type": "markdown",
   "metadata": {},
   "source": [
    "# Emotion Detection using ML\n",
    "\n",
    "Here we are creating a Naive Bayes Text Emotion Detection model.\n",
    "It can detect following six emotions :- Sadness, Joy, Love, Anger, Fear, Surprise"
   ]
  },
  {
   "cell_type": "code",
   "execution_count": 53,
   "metadata": {},
   "outputs": [],
   "source": [
    "import pandas as pd\n",
    "import numpy as np\n",
    "import matplotlib.pyplot as plt\n",
    "%matplotlib inline"
   ]
  },
  {
   "cell_type": "markdown",
   "metadata": {},
   "source": [
    "# Processing the data to be fed into Model"
   ]
  },
  {
   "cell_type": "code",
   "execution_count": 54,
   "metadata": {},
   "outputs": [
    {
     "data": {
      "text/html": [
       "<div>\n",
       "<style scoped>\n",
       "    .dataframe tbody tr th:only-of-type {\n",
       "        vertical-align: middle;\n",
       "    }\n",
       "\n",
       "    .dataframe tbody tr th {\n",
       "        vertical-align: top;\n",
       "    }\n",
       "\n",
       "    .dataframe thead th {\n",
       "        text-align: right;\n",
       "    }\n",
       "</style>\n",
       "<table border=\"1\" class=\"dataframe\">\n",
       "  <thead>\n",
       "    <tr style=\"text-align: right;\">\n",
       "      <th></th>\n",
       "      <th>text</th>\n",
       "      <th>label</th>\n",
       "    </tr>\n",
       "  </thead>\n",
       "  <tbody>\n",
       "    <tr>\n",
       "      <th>0</th>\n",
       "      <td>im feeling rather rotten so im not very ambiti...</td>\n",
       "      <td>0</td>\n",
       "    </tr>\n",
       "    <tr>\n",
       "      <th>1</th>\n",
       "      <td>im updating my blog because i feel shitty</td>\n",
       "      <td>0</td>\n",
       "    </tr>\n",
       "    <tr>\n",
       "      <th>2</th>\n",
       "      <td>i never make her separate from me because i do...</td>\n",
       "      <td>0</td>\n",
       "    </tr>\n",
       "    <tr>\n",
       "      <th>3</th>\n",
       "      <td>i left with my bouquet of red and yellow tulip...</td>\n",
       "      <td>1</td>\n",
       "    </tr>\n",
       "    <tr>\n",
       "      <th>4</th>\n",
       "      <td>i was feeling a little vain when i did this one</td>\n",
       "      <td>0</td>\n",
       "    </tr>\n",
       "  </tbody>\n",
       "</table>\n",
       "</div>"
      ],
      "text/plain": [
       "                                                text  label\n",
       "0  im feeling rather rotten so im not very ambiti...      0\n",
       "1          im updating my blog because i feel shitty      0\n",
       "2  i never make her separate from me because i do...      0\n",
       "3  i left with my bouquet of red and yellow tulip...      1\n",
       "4    i was feeling a little vain when i did this one      0"
      ]
     },
     "execution_count": 54,
     "metadata": {},
     "output_type": "execute_result"
    }
   ],
   "source": [
    "# importing dataset\n",
    "data = pd.concat([pd.read_csv(\"data/test.csv\"), pd.read_csv(\"data/training.csv\"), pd.read_csv(\"data/validation.csv\")])\n",
    "data.head()"
   ]
  },
  {
   "cell_type": "code",
   "execution_count": 55,
   "metadata": {},
   "outputs": [
    {
     "name": "stdout",
     "output_type": "stream",
     "text": [
      "Number of data points = 20000\n",
      "Number of null values in dataset = 0\n",
      "\n",
      "List of emotions in dataset = ['sadness', 'joy', 'love', 'anger', 'fear', 'surprise']\n",
      "Number of data points for each emotion = [5797 6761 1641 2709 2373  719]\n"
     ]
    },
    {
     "data": {
      "image/png": "[encoded data removed]",
      "text/plain": [
       "<Figure size 432x288 with 1 Axes>"
      ]
     },
     "metadata": {},
     "output_type": "display_data"
    }
   ],
   "source": [
    "# Exploratory data analysis\n",
    "\n",
    "print(f'Number of data points = {data.shape[0]}')\n",
    "print(f'Number of null values in dataset = {data.isnull().sum().sum()}')\n",
    "emotions = ['sadness', 'joy', 'love', 'anger', 'fear', 'surprise']\n",
    "arr = np.array([len(data['label'][data.label == x]) for x in range(0,6)])\n",
    "print('\\nList of emotions in dataset =', emotions)\n",
    "print('Number of data points for each emotion =', arr)\n",
    "plt.pie(arr, labels = emotions, shadow=True, explode=[0.1 for _ in range(0, len(emotions))])\n",
    "plt.show()"
   ]
  },
  {
   "cell_type": "code",
   "execution_count": 56,
   "metadata": {},
   "outputs": [
    {
     "data": {
      "text/html": [
       "<div>\n",
       "<style scoped>\n",
       "    .dataframe tbody tr th:only-of-type {\n",
       "        vertical-align: middle;\n",
       "    }\n",
       "\n",
       "    .dataframe tbody tr th {\n",
       "        vertical-align: top;\n",
       "    }\n",
       "\n",
       "    .dataframe thead th {\n",
       "        text-align: right;\n",
       "    }\n",
       "</style>\n",
       "<table border=\"1\" class=\"dataframe\">\n",
       "  <thead>\n",
       "    <tr style=\"text-align: right;\">\n",
       "      <th></th>\n",
       "      <th>text</th>\n",
       "      <th>label</th>\n",
       "    </tr>\n",
       "  </thead>\n",
       "  <tbody>\n",
       "    <tr>\n",
       "      <th>0</th>\n",
       "      <td>im feeling rather rotten so im not very ambiti...</td>\n",
       "      <td>0</td>\n",
       "    </tr>\n",
       "    <tr>\n",
       "      <th>1</th>\n",
       "      <td>im updating my blog because i feel shitty</td>\n",
       "      <td>0</td>\n",
       "    </tr>\n",
       "    <tr>\n",
       "      <th>2</th>\n",
       "      <td>i never make her separate from me because i do...</td>\n",
       "      <td>0</td>\n",
       "    </tr>\n",
       "    <tr>\n",
       "      <th>3</th>\n",
       "      <td>i left with my bouquet of red and yellow tulip...</td>\n",
       "      <td>1</td>\n",
       "    </tr>\n",
       "    <tr>\n",
       "      <th>4</th>\n",
       "      <td>i was feeling a little vain when i did this one</td>\n",
       "      <td>0</td>\n",
       "    </tr>\n",
       "  </tbody>\n",
       "</table>\n",
       "</div>"
      ],
      "text/plain": [
       "                                                text  label\n",
       "0  im feeling rather rotten so im not very ambiti...      0\n",
       "1          im updating my blog because i feel shitty      0\n",
       "2  i never make her separate from me because i do...      0\n",
       "3  i left with my bouquet of red and yellow tulip...      1\n",
       "4    i was feeling a little vain when i did this one      0"
      ]
     },
     "execution_count": 56,
     "metadata": {},
     "output_type": "execute_result"
    }
   ],
   "source": [
    "# Text preprocessing\n",
    "\n",
    "# Text is already preprocessed\n",
    "\n",
    "data.head()"
   ]
  },
  {
   "cell_type": "code",
   "execution_count": 57,
   "metadata": {},
   "outputs": [
    {
     "data": {
      "text/html": [
       "<div>\n",
       "<style scoped>\n",
       "    .dataframe tbody tr th:only-of-type {\n",
       "        vertical-align: middle;\n",
       "    }\n",
       "\n",
       "    .dataframe tbody tr th {\n",
       "        vertical-align: top;\n",
       "    }\n",
       "\n",
       "    .dataframe thead th {\n",
       "        text-align: right;\n",
       "    }\n",
       "</style>\n",
       "<table border=\"1\" class=\"dataframe\">\n",
       "  <thead>\n",
       "    <tr style=\"text-align: right;\">\n",
       "      <th></th>\n",
       "      <th>text</th>\n",
       "      <th>label</th>\n",
       "      <th>emotions</th>\n",
       "    </tr>\n",
       "  </thead>\n",
       "  <tbody>\n",
       "    <tr>\n",
       "      <th>0</th>\n",
       "      <td>im feeling rather rotten so im not very ambiti...</td>\n",
       "      <td>0</td>\n",
       "      <td>sadness</td>\n",
       "    </tr>\n",
       "    <tr>\n",
       "      <th>1</th>\n",
       "      <td>im updating my blog because i feel shitty</td>\n",
       "      <td>0</td>\n",
       "      <td>sadness</td>\n",
       "    </tr>\n",
       "    <tr>\n",
       "      <th>2</th>\n",
       "      <td>i never make her separate from me because i do...</td>\n",
       "      <td>0</td>\n",
       "      <td>sadness</td>\n",
       "    </tr>\n",
       "    <tr>\n",
       "      <th>3</th>\n",
       "      <td>i left with my bouquet of red and yellow tulip...</td>\n",
       "      <td>1</td>\n",
       "      <td>joy</td>\n",
       "    </tr>\n",
       "    <tr>\n",
       "      <th>4</th>\n",
       "      <td>i was feeling a little vain when i did this one</td>\n",
       "      <td>0</td>\n",
       "      <td>sadness</td>\n",
       "    </tr>\n",
       "  </tbody>\n",
       "</table>\n",
       "</div>"
      ],
      "text/plain": [
       "                                                text  label emotions\n",
       "0  im feeling rather rotten so im not very ambiti...      0  sadness\n",
       "1          im updating my blog because i feel shitty      0  sadness\n",
       "2  i never make her separate from me because i do...      0  sadness\n",
       "3  i left with my bouquet of red and yellow tulip...      1      joy\n",
       "4    i was feeling a little vain when i did this one      0  sadness"
      ]
     },
     "execution_count": 57,
     "metadata": {},
     "output_type": "execute_result"
    }
   ],
   "source": [
    "# Converting sentiments to integers\n",
    "\n",
    "# This function can convert emotions to integers and also vice versa\n",
    "def convert_emotions(x):\n",
    "    try:\n",
    "        x = int(x)\n",
    "        return emotions[x]\n",
    "    except ValueError:\n",
    "        return emotions.index(x)\n",
    "    \n",
    "data['emotions'] = data[\"label\"].apply(convert_emotions)\n",
    "data.head()"
   ]
  },
  {
   "cell_type": "code",
   "execution_count": 58,
   "metadata": {},
   "outputs": [
    {
     "name": "stdout",
     "output_type": "stream",
     "text": [
      "Training data = 16000\n",
      "Testing data = 4000\n"
     ]
    }
   ],
   "source": [
    "# Splitting training and testing data\n",
    "\n",
    "from sklearn.model_selection import train_test_split\n",
    "\n",
    "X_train, X_test, y_train, y_test = train_test_split(data['text'], data['label'], test_size=0.2, random_state = 1)\n",
    "\n",
    "print(f\"Training data = {X_train.shape[0]}\")\n",
    "print(f\"Testing data = {X_test.shape[0]}\")"
   ]
  },
  {
   "cell_type": "code",
   "execution_count": 59,
   "metadata": {},
   "outputs": [],
   "source": [
    "# Feature extraction\n",
    "\n",
    "from sklearn.feature_extraction.text import CountVectorizer\n",
    "cv = CountVectorizer()\n",
    "train_data = cv.fit_transform(X_train)\n",
    "test_data = cv.transform(X_test)\n",
    "# Final Data for training :- train_data, y_train\n",
    "# Final Data for testing :- test_data, y_test"
   ]
  },
  {
   "cell_type": "markdown",
   "metadata": {},
   "source": [
    "# Developing the Model"
   ]
  },
  {
   "cell_type": "code",
   "execution_count": 60,
   "metadata": {},
   "outputs": [
    {
     "data": {
      "text/plain": [
       "MultinomialNB(fit_prior=False)"
      ]
     },
     "execution_count": 60,
     "metadata": {},
     "output_type": "execute_result"
    }
   ],
   "source": [
    "from sklearn.naive_bayes import MultinomialNB\n",
    "\n",
    "detector = MultinomialNB(fit_prior=False)\n",
    "detector.fit(train_data, y_train)"
   ]
  },
  {
   "cell_type": "markdown",
   "metadata": {},
   "source": [
    "# Evaluating the Model"
   ]
  },
  {
   "cell_type": "code",
   "execution_count": 61,
   "metadata": {},
   "outputs": [
    {
     "name": "stdout",
     "output_type": "stream",
     "text": [
      "Accuracy score :- 0.78375\n"
     ]
    }
   ],
   "source": [
    "from sklearn.metrics import accuracy_score\n",
    "\n",
    "predictions = detector.predict(test_data)\n",
    "print(\"Accuracy score :-\", accuracy_score(y_test, predictions))"
   ]
  },
  {
   "cell_type": "markdown",
   "metadata": {},
   "source": [
    "# Storing the model for future use"
   ]
  },
  {
   "cell_type": "code",
   "execution_count": 62,
   "metadata": {},
   "outputs": [
    {
     "data": {
      "text/plain": [
       "['emotion_detector.model']"
      ]
     },
     "execution_count": 62,
     "metadata": {},
     "output_type": "execute_result"
    }
   ],
   "source": [
    "import joblib as jl\n",
    "\n",
    "class EmotionDetector:\n",
    "    def __init__(self, model, count_vectorizer):\n",
    "        self.model = model\n",
    "        self.cv = count_vectorizer\n",
    "    \n",
    "    def predict(self, x):\n",
    "        data = self.cv.transform(x)\n",
    "        output = self.model.predict(data)\n",
    "        return self.convert_emotions(output)\n",
    "    \n",
    "    @staticmethod\n",
    "    # This convert_emotions func is different from one used above\n",
    "    # This one is made to accept numpy array as argument\n",
    "    def convert_emotions(x):\n",
    "        emotions = ['sadness', 'joy', 'love', 'anger', 'fear', 'surprise']\n",
    "        try:\n",
    "            x = np.vectorize(int)(x)\n",
    "            return np.vectorize(lambda i: emotions[i])(x)\n",
    "        except ValueError:\n",
    "            return np.vectorize(lambda i: emotions.index(i))(x)\n",
    "        \n",
    "ed = EmotionDetector(detector, cv)\n",
    "\n",
    "jl.dump(ed, 'emotion_detector.model')"
   ]
  },
  {
   "cell_type": "markdown",
   "metadata": {},
   "source": [
    " # Extra code (Not used in this modal building)"
   ]
  },
  {
   "cell_type": "code",
   "execution_count": 42,
   "metadata": {},
   "outputs": [],
   "source": [
    "import re\n",
    "import string\n",
    "import contractions\n",
    "\n",
    "# Preprocessor for Twitter text\n",
    "def preprocess_forTwitter(text):\n",
    "    x = str(text).lower()\n",
    "    punctuations = string.punctuation.replace(\"'\", '')\n",
    "    x = re.sub('@[\\w]+','', x).translate(str.maketrans(punctuations, ' '*len(punctuations)))\n",
    "    \n",
    "    fixed = []\n",
    "    for word in x.split():\n",
    "        fixed.append(contractions.fix(word))\n",
    "    \n",
    "    x = ' '.join(fixed).replace(\"listenin\", \"listening\").replace(' n ', ' and ')\n",
    "    return x"
   ]
  },
  {
   "cell_type": "code",
   "execution_count": null,
   "metadata": {},
   "outputs": [],
   "source": []
  }
 ],
 "metadata": {
  "interpreter": {
   "hash": "507563c04694cce5f872621ea83c068a902c41f85b6dd0e2e7fd6f4068433fa6"
  },
  "kernelspec": {
   "display_name": "Python 3 (ipykernel)",
   "language": "python",
   "name": "python3"
  },
  "language_info": {
   "codemirror_mode": {
    "name": "ipython",
    "version": 3
   },
   "file_extension": ".py",
   "mimetype": "text/x-python",
   "name": "python",
   "nbconvert_exporter": "python",
   "pygments_lexer": "ipython3",
   "version": "3.10.4"
  }
 },
 "nbformat": 4,
 "nbformat_minor": 2
}
